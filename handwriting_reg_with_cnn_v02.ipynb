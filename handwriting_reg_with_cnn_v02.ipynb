{
 "metadata": {
  "kaggle": {
   "accelerator": "gpu",
   "dataSources": [
    {
     "sourceId": 3004,
     "databundleVersionId": 861823,
     "sourceType": "competition"
    },
    {
     "sourceId": 8238505,
     "sourceType": "datasetVersion",
     "datasetId": 4886883
    }
   ],
   "dockerImageVersionId": 30700,
   "isInternetEnabled": true,
   "language": "python",
   "sourceType": "notebook",
   "isGpuEnabled": true
  },
  "kernelspec": {
   "display_name": "Python 3",
   "language": "python",
   "name": "python3"
  },
  "language_info": {
   "name": "python",
   "version": "3.10.13",
   "mimetype": "text/x-python",
   "codemirror_mode": {
    "name": "ipython",
    "version": 3
   },
   "pygments_lexer": "ipython3",
   "nbconvert_exporter": "python",
   "file_extension": ".py"
  }
 },
 "nbformat_minor": 4,
 "nbformat": 4,
 "cells": [
  {
   "cell_type": "markdown",
   "source": [
    "## Import các thư viện cần thiết"
   ],
   "metadata": {}
  },
  {
   "cell_type": "code",
   "source": [
    "from sklearn.utils import shuffle\n",
    "import numpy as np"
   ],
   "metadata": {
    "_kg_hide-input": true,
    "execution": {
     "iopub.status.busy": "2024-04-26T17:26:55.967491Z",
     "iopub.execute_input": "2024-04-26T17:26:55.967936Z",
     "iopub.status.idle": "2024-04-26T17:26:57.171614Z",
     "shell.execute_reply.started": "2024-04-26T17:26:55.967902Z",
     "shell.execute_reply": "2024-04-26T17:26:57.170681Z"
    },
    "trusted": true,
    "ExecuteTime": {
     "end_time": "2024-04-26T19:13:34.613448Z",
     "start_time": "2024-04-26T19:13:34.609450Z"
    }
   },
   "execution_count": 3,
   "outputs": []
  },
  {
   "cell_type": "markdown",
   "source": [
    "## Import dữ liệu"
   ],
   "metadata": {}
  },
  {
   "cell_type": "code",
   "source": [
    "# Load bộ dữ liệu mnist của keras\n",
    "with np.load('input/mnist-dataset/mnist.npz') as f:\n",
    "    X_train, y_train  = f['x_train'], f['y_train']\n",
    "    X_test, y_test = f['x_test'], f['y_test']\n",
    "    \n",
    "    # Thiết lập số lượng mẫu dùng để huấn luyện và kiểm tra, ở đây chỉ sử dụng kích thước mẫu huấn luyện có kích tước 30000 và mẫu kiểm tra có kích thước 10000 để tăng thời gian huấn luyện\n",
    "    num_train_samples = 60000\n",
    "    num_test_samples = 10000\n",
    "    \n",
    "    # Lấy mẫu dữ liệu huấn luyện và kiểm tra\n",
    "    X_train, y_train = X_train[:num_train_samples], y_train[:num_train_samples]\n",
    "    X_test, y_test = X_test[:num_test_samples], y_test[:num_test_samples]"
   ],
   "metadata": {
    "collapsed": false,
    "execution": {
     "iopub.status.busy": "2024-04-26T17:26:57.176957Z",
     "iopub.execute_input": "2024-04-26T17:26:57.179267Z",
     "iopub.status.idle": "2024-04-26T17:26:57.708222Z",
     "shell.execute_reply.started": "2024-04-26T17:26:57.179233Z",
     "shell.execute_reply": "2024-04-26T17:26:57.707090Z"
    },
    "trusted": true,
    "ExecuteTime": {
     "end_time": "2024-04-26T19:13:34.714157Z",
     "start_time": "2024-04-26T19:13:34.620714Z"
    }
   },
   "execution_count": 4,
   "outputs": []
  },
  {
   "cell_type": "code",
   "source": [
    "print('X_train: ' + str(X_train.shape))\n",
    "print('Y_train: ' + str(y_train.shape))\n",
    "print('X_test:  '  + str(X_test.shape))\n",
    "print('Y_test:  '  + str(y_test.shape))"
   ],
   "metadata": {
    "collapsed": false,
    "execution": {
     "iopub.status.busy": "2024-04-26T17:26:57.709515Z",
     "iopub.execute_input": "2024-04-26T17:26:57.709980Z",
     "iopub.status.idle": "2024-04-26T17:26:57.718771Z",
     "shell.execute_reply.started": "2024-04-26T17:26:57.709947Z",
     "shell.execute_reply": "2024-04-26T17:26:57.716634Z"
    },
    "trusted": true,
    "ExecuteTime": {
     "end_time": "2024-04-26T19:13:34.719619Z",
     "start_time": "2024-04-26T19:13:34.715913Z"
    }
   },
   "execution_count": 5,
   "outputs": [
    {
     "name": "stdout",
     "output_type": "stream",
     "text": [
      "X_train: (60000, 28, 28)\n",
      "Y_train: (60000,)\n",
      "X_test:  (10000, 28, 28)\n",
      "Y_test:  (10000,)\n"
     ]
    }
   ]
  },
  {
   "cell_type": "markdown",
   "source": [
    "## Triển khai mô hình CNN"
   ],
   "metadata": {}
  },
  {
   "cell_type": "markdown",
   "source": [
    "### Convolution 3x3"
   ],
   "metadata": {}
  },
  {
   "cell_type": "code",
   "source": [
    "class Conv3x3:\n",
    "    '''\n",
    "        Lớp Convolution sử dụng bộ lộc có kích thước 3x3\n",
    "    '''\n",
    "    \n",
    "    '''\n",
    "        Hàm khởi tạo\n",
    "        - num_filters: số lượng bộ lọc\n",
    "        - filters: mảng 3d với kích thước (num_filters, 3, 3). Chúng ta chia cho 9 để giảm phương sai của các giá trị ban đầu giúp cho dữ liệu tập trung giá trị trung bình\n",
    "    '''\n",
    "    def __init__(self, num_filters):\n",
    "        self.num_filters = num_filters\n",
    "        self.filters = np.random.randn(num_filters, 3, 3) / 9\n",
    "\n",
    "    def iterate_regions(self, image):\n",
    "        # Lấy height và width của ảnh\n",
    "        h, w = image.shape\n",
    "        \n",
    "        # Lặp qua các vị trí của ảnh\n",
    "        '''\n",
    "            Do lặp từ trái qua phải và từ trên xuống dưới bằng vùng ảnh 3x3 nên khi đến bìa phải và dưới cùng thì nó dư ra 2 cell và không còn chỗ chứa nên phải trừ đi 2 cell dư đó\n",
    "        '''\n",
    "        for i in range(h - 2):\n",
    "            for j in range(w - 2):\n",
    "                im_region = image[i:(i + 3), j:(j + 3)]\n",
    "                yield im_region, i, j\n",
    "    \n",
    "    # Lan truyền thẳng\n",
    "    def forward(self, input):\n",
    "        '''\n",
    "            Hàm này sẽ trả về một mảng 3D với kích thước (h - 2, w - 2, self.num_filters) sau khi áp dụng các bộ lọc.\n",
    "        '''\n",
    "        # Lưu lại input để sử dụng cho lan truyền ngược\n",
    "        self.last_input = input\n",
    "\n",
    "        # Lấy height và width của ảnh\n",
    "        h, w = input.shape\n",
    "        \n",
    "        # Khởi tạo một mảng 3D với kích thước (h - 2, w - 2, self.num_filters) để lưu kết quả sau khi áp dụng các bộ lọc.\n",
    "        output = np.zeros((h - 2, w - 2, self.num_filters))\n",
    "\n",
    "        # Tích chập ảnh với các bộ lọc\n",
    "        for im_region, i, j in self.iterate_regions(input):\n",
    "            output[i, j] = np.sum(im_region * self.filters, axis=(1, 2))\n",
    "        \n",
    "        # Trả về kết quả\n",
    "        return output\n",
    "\n",
    "    # Lan truyền ngược\n",
    "    def backprop(self, d_L_d_out, learn_rate):\n",
    "        '''\n",
    "            Hàm này sẽ cập nhật các bộ lọc dựa trên gradient của hàm mất mát theo đầu ra của lớp Convolution.\n",
    "            - d_L_d_out là gradient của hàm mất mát theo đầu ra của lớp Convolution.\n",
    "            - learn_rate là tốc độ học.\n",
    "        '''\n",
    "        \n",
    "        # Khởi tạo một mảng với cùng kích thước với các bộ lọc (filters) để lưu gradient của hàm mất mát (loss function) theo các bộ lọc.\n",
    "        d_L_d_filters = np.zeros(self.filters.shape)\n",
    "        \n",
    "        # Lặp qua từng vùng 3x3 pixel của ảnh đầu vào mà lớp Convolution đã lưu lại trong quá trình lan truyền thẳng.\n",
    "        for im_region, i, j in self.iterate_regions(self.last_input):\n",
    "            # Lặp qua từng bộ lọc. \n",
    "            for f in range(self.num_filters):\n",
    "                # Tính toán gradient của hàm mất mát theo từng bộ lọc. d_L_d_out[i, j, f] là gradient của hàm mất mát theo đầu ra của lớp Convolution tại vị trí (i, j) và bộ lọc thứ f. im_region là vùng ảnh 3x3 tương ứng.\n",
    "                d_L_d_filters[f] += d_L_d_out[i, j, f] * im_region\n",
    "\n",
    "        # Cập nhật giá trị của các bộ lọc (Cập nhật trọng số) dựa trên gradient vừa tính toán. learn_rate là tốc độ học, một hệ số dùng để kiểm soát mức độ cập nhật của các bộ lọc.\n",
    "        self.filters -= learn_rate * d_L_d_filters\n",
    "\n",
    "        # Phương thức này không trả về gì cả, vì lớp Convolution này được sử dụng như là lớp đầu tiên trong mạng CNN. Khi đến lớp MaxPool thì chúng ta mới sẽ cần trả về gradient của hàm mất mát theo đầu vào của lớp này, giống như các lớp khác trong mạng CNN.\n",
    "        return None\n"
   ],
   "metadata": {
    "execution": {
     "iopub.status.busy": "2024-04-26T17:26:57.721136Z",
     "iopub.execute_input": "2024-04-26T17:26:57.721457Z",
     "iopub.status.idle": "2024-04-26T17:26:57.738511Z",
     "shell.execute_reply.started": "2024-04-26T17:26:57.721427Z",
     "shell.execute_reply": "2024-04-26T17:26:57.736980Z"
    },
    "trusted": true,
    "ExecuteTime": {
     "end_time": "2024-04-26T19:13:34.727920Z",
     "start_time": "2024-04-26T19:13:34.721547Z"
    }
   },
   "execution_count": 6,
   "outputs": []
  },
  {
   "cell_type": "markdown",
   "source": [
    "### MaxPool 2x2"
   ],
   "metadata": {}
  },
  {
   "cell_type": "code",
   "source": [
    "class MaxPool2:\n",
    "    '''\n",
    "        Lớp Max Pooling với kích thước 2x2.\n",
    "    '''\n",
    "\n",
    "    def iterate_regions(self, image):\n",
    "        '''\n",
    "            Tạo ra các vùng 2x2 không chồng lên nhau trên hình ảnh đầu vào.\n",
    "            - image là một mảng numpy 2D.\n",
    "        '''\n",
    "        \n",
    "        # Lấy chiều cao và chiều rộng của hình ảnh đầu vào. \n",
    "        h, w, _ = image.shape\n",
    "        \n",
    "        # Tính toán chiều cao và chiều rộng mới cho hình ảnh sau khi áp dụng Max Pooling. Do Max Pooling với kích thước 2x2 sẽ giảm kích thước của hình ảnh xuống một nửa. \n",
    "        new_h = h // 2\n",
    "        new_w = w // 2\n",
    "        \n",
    "        # Lặp qua từng vị trí trên hình ảnh sau khi áp dụng Max Pooling. \n",
    "        for i in range(new_h):\n",
    "            for j in range(new_w):\n",
    "                # Lấy một vùng 2x2 từ hình ảnh đầu vào tại vị trí tương ứng.\n",
    "                im_region = image[(i * 2):(i * 2 + 2), (j * 2):(j * 2 + 2)]\n",
    "                # Trả về vùng ảnh 2x2 và vị trí của nó trên hình ảnh sau khi áp dụng Max Pooling.\n",
    "                yield im_region, i, j\n",
    "\n",
    "    # Lan truyền thẳng\n",
    "    def forward(self, input):\n",
    "        '''\n",
    "            Thực hiện lan truyền thẳng bằng các input đã cho.\n",
    "            Trả về mảng 3d với kích thước (h / 2, w / 2, num_filters).\n",
    "            - input là mảng 3 chiều với các kích thước (h, w, num_filters)\n",
    "        '''\n",
    "        # Lưu lại đầu vào cho lớp Max Pooling để sử dụng cho lan truyền ngược.\n",
    "        self.last_input = input\n",
    "\n",
    "        # Lấy chiều cao, chiều rộng và số lượng bộ lọc từ đầu vào.\n",
    "        h, w, num_filters = input.shape\n",
    "        \n",
    "        # Khởi tạo một mảng 3D với kích thước (h / 2, w / 2, num_filters) để lưu kết quả sau khi áp dụng Max Pooling. Kích thước của hình ảnh sẽ giảm xuống một nửa sau khi áp dụng Max Pooling với kích thước 2x2.\n",
    "        output = np.zeros((h // 2, w // 2, num_filters))\n",
    "        \n",
    "        # Lặp qua từng vùng 2x2 trên hình ảnh đầu vào.\n",
    "        for im_region, i, j in self.iterate_regions(input):\n",
    "            # Tính giá trị lớn nhất trong mỗi vùng 2x2 và gán vào mảng output tại vị trí tương ứng.\n",
    "            output[i, j] = np.amax(im_region, axis=(0, 1))\n",
    "        \n",
    "        # Trả về kết quả sau khi áp dụng Max Pooling.\n",
    "        return output\n",
    "\n",
    "    def backprop(self, d_L_d_out):\n",
    "        '''\n",
    "            Thực hiện lan truyền ngược bằng gradient của hàm mất mát theo đầu ra của lớp Max Pooling.\n",
    "            Trả về gradient của hàm mất mát theo đầu vào của lớp Max Pooling.\n",
    "            - d_L_d_out là gradient của hàm mất mát theo đầu ra của lớp Max Pooling.\n",
    "        '''\n",
    "        \n",
    "        # Khởi tạo một mảng với cùng kích thước với đầu vào của lớp Max Pooling để lưu gradient của hàm mất mát theo đầu vào.\n",
    "        d_L_d_input = np.zeros(self.last_input.shape)\n",
    "\n",
    "        # Lặp qua từng vùng 2x2 trên hình ảnh đầu vào mà lớp Max Pooling đã lưu lại trong quá trình lan truyền thẳng.\n",
    "        for im_region, i, j in self.iterate_regions(self.last_input):\n",
    "            # Lấy chiều cao, chiều rộng và số lượng bộ lọc từ vùng ảnh. \n",
    "            h, w, f = im_region.shape\n",
    "            \n",
    "            # Tính giá trị lớn nhất trong mỗi vùng ảnh 2x2.\n",
    "            amax = np.amax(im_region, axis=(0, 1))\n",
    "\n",
    "            # Lặp qua từng pixel và từng bộ lọc trong vùng ảnh.\n",
    "            for i2 in range(h):\n",
    "                for j2 in range(w):\n",
    "                    for f2 in range(f):\n",
    "                        # Kiểm tra xem pixel này có phải là giá trị lớn nhất trong vùng ảnh không.\n",
    "                        # Nếu pixel này là giá trị lớn nhất, thì copy gradient của hàm mất mát theo đầu ra của lớp Max Pooling tại vị trí tương ứng vào mảng d_L_d_input.\n",
    "                        if im_region[i2, j2, f2] == amax[f2]:\n",
    "                            d_L_d_input[i * 2 + i2, j * 2 + j2, f2] = d_L_d_out[i, j, f2]\n",
    "        # Trả về gradient của hàm mất mát theo đầu vào của lớp Max Pooling.\n",
    "        return d_L_d_input"
   ],
   "metadata": {
    "execution": {
     "iopub.status.busy": "2024-04-26T17:26:57.740223Z",
     "iopub.execute_input": "2024-04-26T17:26:57.740531Z",
     "iopub.status.idle": "2024-04-26T17:26:57.756815Z",
     "shell.execute_reply.started": "2024-04-26T17:26:57.740503Z",
     "shell.execute_reply": "2024-04-26T17:26:57.755966Z"
    },
    "trusted": true,
    "ExecuteTime": {
     "end_time": "2024-04-26T19:13:34.739416Z",
     "start_time": "2024-04-26T19:13:34.730742Z"
    }
   },
   "execution_count": 7,
   "outputs": []
  },
  {
   "cell_type": "markdown",
   "source": [
    "## Triển khai lớp Softmax"
   ],
   "metadata": {}
  },
  {
   "cell_type": "code",
   "source": [
    "class Softmax: # Activation function\n",
    "    '''\n",
    "        A standard fully-connected layer with softmax activation.\n",
    "    '''\n",
    "\n",
    "    def __init__(self, input_len, nodes):\n",
    "        # Trọng số được khởi tạo ngẫu nhiên theo phân phối chuẩn (Gaussian distribution) với kích thước (input_len, nodes). Chúng được chia cho input_len để giảm phương sai của các giá trị khởi tạo, giúp cho quá trình học tập ổn định hơn\n",
    "        self.weights = np.random.randn(input_len, nodes) / input_len\n",
    "        # Độ lệch được khởi tạo là một mảng có kích thước bằng số lượng nơ-ron trong lớp Softmax và tất cả các giá trị ban đầu đều là 0.\n",
    "        self.biases = np.zeros(nodes)\n",
    "\n",
    "    def forward(self, input):\n",
    "        '''\n",
    "            Thực hiện lan truyền thẳng lớp Softmax với đầu vào input.\n",
    "            Trả về một mảng numpy 1 chiều chứa xác suất của từng lớp.\n",
    "            Đầu vào có thể là một mảng ở bất kỳ kích thước nào.\n",
    "        '''\n",
    "        \n",
    "        # Lưu lại input để sử dụng cho lan truyền ngược\n",
    "        self.last_input_shape = input.shape\n",
    "        \n",
    "        # Chuyển đổi đầu vào thành một mảng một chiều. Điều này cần thiết vì lớp Softmax nhận đầu vào dưới dạng một vector.\n",
    "        input = input.flatten()\n",
    "        \n",
    "        # Lưu lại đầu vào đã được làm phẳng để sử dụng cho lan truyền ngược\n",
    "        self.last_input = input\n",
    "\n",
    "        # Lấy kích thước của ma trận trọng số. input_len là số lượng đầu vào và nodes là số lượng nơ-ron trong lớp Softmax.\n",
    "        input_len, nodes = self.weights.shape\n",
    "\n",
    "        # Tính tổng trọng số của đầu vào. Đây là bước tính toán tổng trọng số (weighted sum) trong mạng nơ-ron. \n",
    "        totals = np.dot(input, self.weights) + self.biases\n",
    "        \n",
    "        # Lưu lại tổng trọng số để sử dụng cho lan truyền ngược\n",
    "        self.last_totals = totals\n",
    "        \n",
    "        # Tính hàm mũ e cho mỗi giá trị trong tổng trọng số. Đây là bước đầu tiên của hàm kích hoạt Softmax.\n",
    "        exp = np.exp(totals)\n",
    "        return exp / np.sum(exp, axis=0)\n",
    "\n",
    "    def backprop(self, d_L_d_out, learn_rate):\n",
    "        '''\n",
    "            Tiến hành thực hiện lan truyền ngược trên lớp Softmax.\n",
    "            Trả về gradient mất mát cho đầu vào của lớp này.\n",
    "            - d_L_d_out là gradient của hàm mất mát theo đầu ra của lớp Softmax.\n",
    "            - learn_rate là tốc độ học.\n",
    "        '''\n",
    "        # We know only 1 element of d_L_d_out will be nonzero\n",
    "        \n",
    "        # Lặp qua từng gradient trong d_L_d_out, đây là gradient của hàm mất mát theo đầu ra của lớp Softmax.\n",
    "        for i, gradient in enumerate(d_L_d_out):\n",
    "            # Nếu gradient bằng 0, bỏ qua lần lặp hiện tại và tiếp tục với lần lặp tiếp theo. \n",
    "            if gradient == 0:\n",
    "                continue\n",
    "\n",
    "            # e^totals. Tính hàm mũ e cho tổng trọng số đã được lưu lại trong quá trình lan truyền thẳng. \n",
    "            t_exp = np.exp(self.last_totals)\n",
    "\n",
    "            # Tính tổng của tất cả các giá trị t_exp hay e^totals\n",
    "            S = np.sum(t_exp)\n",
    "\n",
    "            # Tính gradient của đầu ra tại vị trí i theo tổng trọng số.\n",
    "            d_out_d_t = -t_exp[i] * t_exp / (S ** 2)\n",
    "            # Cập nhật gradient của đầu ra tại vị trí i theo tổng trọng số.\n",
    "            d_out_d_t[i] = t_exp[i] * (S - t_exp[i]) / (S ** 2)\n",
    "\n",
    "            # Gradients của tổng trọng số so với weights/biases/input\n",
    "            # Gradient của tổng trọng số theo trọng số là input cuối cùng\n",
    "            d_t_d_w = self.last_input\n",
    "            # Gradient của tổng trọng số theo bias là 1.\n",
    "            d_t_d_b = 1\n",
    "            # Gradient của tổng trọng số theo đầu vào là weights.\n",
    "            d_t_d_inputs = self.weights\n",
    "\n",
    "            # Tính gradient của hàm mất mát theo tổng trọng số.\n",
    "            d_L_d_t = gradient * d_out_d_t\n",
    "\n",
    "            # Gradients của tổng trọng số so với weights/biases/input\n",
    "            d_L_d_w = d_t_d_w[np.newaxis].T @ d_L_d_t[np.newaxis]\n",
    "            d_L_d_b = d_L_d_t * d_t_d_b\n",
    "            d_L_d_inputs = d_t_d_inputs @ d_L_d_t\n",
    "\n",
    "            # Update weights / biases\n",
    "            # Cập nhật trọng số và bias dựa trên gradient của loss func và learning_rate. \n",
    "            self.weights -= learn_rate * d_L_d_w\n",
    "            self.biases -= learn_rate * d_L_d_b\n",
    "            \n",
    "        # Trả về gradient của hàm mất mát theo đầu vào, đã được định hình lại để phù hợp với kích thước của đầu vào ban đầu\n",
    "        return d_L_d_inputs.reshape(self.last_input_shape)"
   ],
   "metadata": {
    "execution": {
     "iopub.status.busy": "2024-04-26T17:26:57.758320Z",
     "iopub.execute_input": "2024-04-26T17:26:57.758638Z",
     "iopub.status.idle": "2024-04-26T17:26:57.775572Z",
     "shell.execute_reply.started": "2024-04-26T17:26:57.758608Z",
     "shell.execute_reply": "2024-04-26T17:26:57.774693Z"
    },
    "trusted": true,
    "ExecuteTime": {
     "end_time": "2024-04-26T19:13:34.748079Z",
     "start_time": "2024-04-26T19:13:34.740374Z"
    }
   },
   "execution_count": 8,
   "outputs": []
  },
  {
   "cell_type": "markdown",
   "source": [
    "## Huấn luyện mô hình"
   ],
   "metadata": {}
  },
  {
   "cell_type": "code",
   "source": [
    "def forward(image, label):\n",
    "    '''\n",
    "        Hoàn thành quá trình lan truyền thẳng của CNN và tính toán độ chính xác và cross-entropy loss.\n",
    "         - hình ảnh là một mảng numpy 2d\n",
    "         - nhãn là một chữ số\n",
    "    '''\n",
    "    # Đầu tiên, hình ảnh được chuyển đổi từ phạm vi [0, 255] về phạm vi [-0.5, 0.5] để dễ dàng xử lý hơn. Sau đó, hình ảnh được truyền qua lớp Convolution.\n",
    "    out = conv.forward((image / 255) - 0.5)\n",
    "    \n",
    "    # Đầu ra từ lớp Convolution sau đó được truyền qua lớp Max Pooling.\n",
    "    out = pool.forward(out)\n",
    "    \n",
    "    # Đầu ra từ lớp Max Pooling sau đó được truyền qua lớp Softmax.\n",
    "    out = softmax.forward(out)\n",
    "\n",
    "    # Tính toán mất mát cross-entropy. out[label] là xác suất mà mô hình dự đoán cho nhãn đúng, và np.log() là hàm logarit tự nhiên.\n",
    "    loss = -np.log(out[label])\n",
    "    \n",
    "    # Tính toán độ chính xác. Nếu nhãn dự đoán bởi mô hình (nhãn có xác suất cao nhất) trùng với nhãn thực tế, thì độ chính xác là 1, ngược lại là 0.\n",
    "    acc = 1 if np.argmax(out) == label else 0\n",
    "\n",
    "    return out, loss, acc\n",
    "\n",
    "def train(im, label, lr=0.005):\n",
    "    '''\n",
    "    Completes a full training step on the given image and label.\n",
    "    Returns the cross-entropy loss and accuracy.\n",
    "    - image is a 2d numpy array\n",
    "    - label is a digit\n",
    "    - lr is the learning rate\n",
    "    '''\n",
    "    # Lan truyền thẳng\n",
    "    out, loss, acc = forward(im, label)\n",
    "\n",
    "    # Khởi tạo một gradient ban đầu là một mảng có 10 phần tử, tất cả đều là 0. Mảng này tương ứng với gradient của hàm mất mát theo đầu ra của lớp Softmax.\n",
    "    gradient = np.zeros(10)\n",
    "    \n",
    "    # Cập nhật gradient tại vị trí tương ứng với nhãn đúng. Đây là gradient của hàm mất mát cross-entropy theo đầu ra của lớp Softmax.\n",
    "    gradient[label] = -1 / out[label]\n",
    "\n",
    "    # Lan truyền ngược\n",
    "    # Thực hiện lan truyền ngược qua lớp Softmax bằng cách sử dụng gradient đã tính và tốc độ học. Hàm backprop của lớp Softmax trả về gradient của hàm mất mát theo đầu vào của lớp này.\n",
    "    gradient = softmax.backprop(gradient, lr)\n",
    "    \n",
    "    # Thực hiện lan truyền ngược qua lớp Max Pooling bằng cách sử dụng gradient từ lớp Softmax. Hàm backprop của lớp Max Pooling trả về gradient của hàm mất mát theo đầu vào của lớp này.\n",
    "    gradient = pool.backprop(gradient)\n",
    "    \n",
    "    # Thực hiện lan truyền ngược qua lớp Convolution bằng cách sử dụng gradient từ lớp Max Pooling và tốc độ học. Hàm backprop của lớp Convolution trả về gradient của hàm mất mát theo đầu vào của lớp này.\n",
    "    gradient = conv.backprop(gradient, lr)\n",
    "    \n",
    "    # Trả về mất mát cross-entropy và độ chính xác cho bước huấn luyện này.\n",
    "    return loss, acc"
   ],
   "metadata": {
    "execution": {
     "iopub.status.busy": "2024-04-26T17:26:57.776597Z",
     "iopub.execute_input": "2024-04-26T17:26:57.776948Z",
     "iopub.status.idle": "2024-04-26T17:26:57.792500Z",
     "shell.execute_reply.started": "2024-04-26T17:26:57.776918Z",
     "shell.execute_reply": "2024-04-26T17:26:57.791709Z"
    },
    "trusted": true,
    "ExecuteTime": {
     "end_time": "2024-04-26T19:13:34.754083Z",
     "start_time": "2024-04-26T19:13:34.749483Z"
    }
   },
   "execution_count": 9,
   "outputs": []
  },
  {
   "cell_type": "code",
   "source": [
    "# 28x28x1 -> 26x26x8\n",
    "# Khởi tạo một lớp Convolution với 8 bộ lọc. Lớp Convolution sẽ áp dụng các bộ lọc này lên hình ảnh đầu vào, giúp trích xuất các đặc trưng cục bộ từ hình ảnh. Kích thước của hình ảnh sau khi đi qua lớp này sẽ từ 28x28x1 (đầu vào) trở thành 26x26x8 (đầu ra). \n",
    "conv = Conv3x3(8)\n",
    "\n",
    "# 26x26x8 -> 13x13x8\n",
    "# Khởi tạo một lớp Max Pooling với kích thước 2x2. Lớp Max Pooling giúp giảm kích thước của hình ảnh đầu vào bằng cách lấy giá trị lớn nhất trong mỗi vùng 2x2. Kích thước của hình ảnh sau khi đi qua lớp này sẽ từ 26x26x8 (đầu vào) trở thành 13x13x8 (đầu ra). \n",
    "pool = MaxPool2()\n",
    "\n",
    "# 13x13x8 -> 10\n",
    "# Khởi tạo một lớp Softmax, đây là lớp cuối cùng của mạng. Lớp này nhận đầu vào là một vector có kích thước 13138 (được làm phẳng từ hình ảnh đầu ra của lớp Max Pooling) và trả về một vector có kích thước 10, tương ứng với xác suất của mỗi lớp đầu ra (trong trường hợp này là 10 chữ số từ 0 đến 9).\n",
    "softmax = Softmax(13 * 13 * 8, 10)"
   ],
   "metadata": {
    "execution": {
     "iopub.status.busy": "2024-04-26T17:26:57.793801Z",
     "iopub.execute_input": "2024-04-26T17:26:57.794139Z",
     "iopub.status.idle": "2024-04-26T17:26:57.808198Z",
     "shell.execute_reply.started": "2024-04-26T17:26:57.794116Z",
     "shell.execute_reply": "2024-04-26T17:26:57.807413Z"
    },
    "trusted": true,
    "ExecuteTime": {
     "end_time": "2024-04-26T19:13:34.758168Z",
     "start_time": "2024-04-26T19:13:34.754701Z"
    }
   },
   "execution_count": 10,
   "outputs": []
  },
  {
   "cell_type": "code",
   "source": [
    "# for epoch in range(1):\n",
    "#     print('--- Epoch %d ---' % (epoch + 1))\n",
    "# \n",
    "#     # Trộn dữ liệu để đảm bảo độ tin tưởng của model\n",
    "#     X_train, y_train = shuffle(X_train, y_train)\n",
    "# \n",
    "#     loss = 0\n",
    "#     num_correct = 0\n",
    "#     for i, (im, label) in enumerate(zip(X_train, y_train)):\n",
    "#         if i > 0 and i % 2000 == 1999:\n",
    "#             print('[Step {:5d}] Past 2000 steps: Average Loss {:.3f} | Accuracy: {:2.2f}%'\n",
    "#                    .format(i + 1, loss / 2000, num_correct / 20))\n",
    "# \n",
    "#             loss = 0\n",
    "#             num_correct = 0\n",
    "# \n",
    "#         l, acc = train(im, label)\n",
    "#         loss += l\n",
    "#         num_correct += acc"
   ],
   "metadata": {
    "execution": {
     "iopub.status.busy": "2024-04-26T17:26:57.809179Z",
     "iopub.execute_input": "2024-04-26T17:26:57.809427Z",
     "iopub.status.idle": "2024-04-26T19:07:27.551276Z",
     "shell.execute_reply.started": "2024-04-26T17:26:57.809406Z",
     "shell.execute_reply": "2024-04-26T19:07:27.550090Z"
    },
    "trusted": true,
    "ExecuteTime": {
     "end_time": "2024-04-26T19:13:34.760572Z",
     "start_time": "2024-04-26T19:13:34.758864Z"
    }
   },
   "execution_count": 11,
   "outputs": []
  },
  {
   "cell_type": "markdown",
   "source": [
    "## Đánh giá mô hình"
   ],
   "metadata": {}
  },
  {
   "cell_type": "code",
   "source": [
    "# print('--- Testing the CNN ---')\n",
    "# loss = 0\n",
    "# num_correct = 0\n",
    "# for im, label in zip(X_test, y_test):\n",
    "#     _, l, acc = forward(im, label)\n",
    "#     loss += l\n",
    "#     num_correct += acc\n",
    "# \n",
    "# num_tests = len(X_test)\n",
    "# print('Test Loss:', loss / num_tests)\n",
    "# print('Test Accuracy:', num_correct / num_tests)"
   ],
   "metadata": {
    "execution": {
     "iopub.status.busy": "2024-04-26T19:07:27.557073Z",
     "iopub.execute_input": "2024-04-26T19:07:27.558923Z",
     "iopub.status.idle": "2024-04-26T19:07:27.566109Z",
     "shell.execute_reply.started": "2024-04-26T19:07:27.558878Z",
     "shell.execute_reply": "2024-04-26T19:07:27.564900Z"
    },
    "trusted": true,
    "ExecuteTime": {
     "end_time": "2024-04-26T19:13:34.763467Z",
     "start_time": "2024-04-26T19:13:34.761194Z"
    }
   },
   "execution_count": 12,
   "outputs": []
  },
  {
   "cell_type": "markdown",
   "source": [
    "## Lưu mô hình và tiến hành dự đoán"
   ],
   "metadata": {}
  },
  {
   "cell_type": "code",
   "source": [
    "# import pickle\n",
    "# \n",
    "# # Định nghĩa một dictionary chứa tất cả các tham số mà bạn muốn lưu\n",
    "# model_params = {\n",
    "#     \"conv_filters\": conv.filters,\n",
    "#     \"softmax_weights\": softmax.weights,\n",
    "#     \"softmax_biases\": softmax.biases\n",
    "# }\n",
    "# \n",
    "# # Lưu dictionary vào một file\n",
    "# with open(\"model_60k_params.pkl\", \"wb\") as f:\n",
    "#     pickle.dump(model_params, f)"
   ],
   "metadata": {
    "collapsed": false,
    "execution": {
     "iopub.status.busy": "2024-04-26T19:07:27.569966Z",
     "iopub.execute_input": "2024-04-26T19:07:27.574293Z",
     "iopub.status.idle": "2024-04-26T19:07:27.584310Z",
     "shell.execute_reply.started": "2024-04-26T19:07:27.574248Z",
     "shell.execute_reply": "2024-04-26T19:07:27.583234Z"
    },
    "trusted": true,
    "ExecuteTime": {
     "end_time": "2024-04-26T19:13:34.766873Z",
     "start_time": "2024-04-26T19:13:34.765289Z"
    }
   },
   "execution_count": 13,
   "outputs": []
  },
  {
   "cell_type": "code",
   "source": [
    "import pickle\n",
    "# Tải dictionary từ file\n",
    "with open(\"model_60k_params.pkl\", \"rb\") as f:\n",
    "    model_params = pickle.load(f)\n",
    "\n",
    "# Gán lại các tham số cho mô hình\n",
    "conv.filters = model_params[\"conv_filters\"]\n",
    "softmax.weights = model_params[\"softmax_weights\"]\n",
    "softmax.biases = model_params[\"softmax_biases\"]"
   ],
   "metadata": {
    "collapsed": false,
    "execution": {
     "iopub.status.busy": "2024-04-26T19:07:27.590152Z",
     "iopub.execute_input": "2024-04-26T19:07:27.590904Z",
     "iopub.status.idle": "2024-04-26T19:07:27.602721Z",
     "shell.execute_reply.started": "2024-04-26T19:07:27.590862Z",
     "shell.execute_reply": "2024-04-26T19:07:27.601897Z"
    },
    "trusted": true,
    "ExecuteTime": {
     "end_time": "2024-04-26T19:13:34.772424Z",
     "start_time": "2024-04-26T19:13:34.767951Z"
    }
   },
   "execution_count": 14,
   "outputs": []
  },
  {
   "cell_type": "code",
   "source": [
    "import matplotlib.pyplot as plt\n",
    "def predict(image):\n",
    "    '''\n",
    "    Dự đoán nhãn cho một hình ảnh mới.\n",
    "    - image là một mảng numpy 2d.\n",
    "    '''\n",
    "    out, _, _ = forward(image, 0)  # Sử dụng nhãn 0 vì nhãn không quan trọng trong quá trình dự đoán\n",
    "    return np.argmax(out)  # Trả về nhãn có xác suất cao nhất\n",
    "\n",
    "\n",
    "# Chọn một hình ảnh từ tập dữ liệu kiểm tra\n",
    "image_index = 5500  # bạn có thể thay đổi chỉ số này để xem hình ảnh khác\n",
    "image = X_test[image_index]\n",
    "\n",
    "# In ra hình ảnh\n",
    "plt.imshow(image, cmap='gray')\n",
    "plt.show()\n",
    "\n",
    "# Dự đoán nhãn cho hình ảnh\n",
    "predicted_label = predict(image)\n",
    "print(\"Predicted label:\", predicted_label)"
   ],
   "metadata": {
    "collapsed": false,
    "execution": {
     "iopub.status.busy": "2024-04-26T19:07:27.603856Z",
     "iopub.execute_input": "2024-04-26T19:07:27.604497Z",
     "iopub.status.idle": "2024-04-26T19:07:27.811847Z",
     "shell.execute_reply.started": "2024-04-26T19:07:27.604459Z",
     "shell.execute_reply": "2024-04-26T19:07:27.810720Z"
    },
    "trusted": true,
    "ExecuteTime": {
     "end_time": "2024-04-26T19:13:35.123674Z",
     "start_time": "2024-04-26T19:13:34.773797Z"
    }
   },
   "execution_count": 15,
   "outputs": [
    {
     "data": {
      "text/plain": "<Figure size 640x480 with 1 Axes>",
      "image/png": "[encoded data removed]"
     },
     "metadata": {},
     "output_type": "display_data"
    },
    {
     "name": "stdout",
     "output_type": "stream",
     "text": [
      "Predicted label: 4\n"
     ]
    }
   ]
  },
  {
   "cell_type": "code",
   "source": [
    "import matplotlib.pyplot as plt\n",
    "from PIL import Image, ImageOps\n",
    "\n",
    "\n",
    "def convert_to_binary(file_path):\n",
    "    # Open the image file\n",
    "    with Image.open(file_path) as img:\n",
    "        # Convert the image to binary (black and white)\n",
    "        img = img.convert('1')\n",
    "        return img\n",
    "\n",
    "def predict(image):\n",
    "    '''\n",
    "    Dự đoán nhãn cho một hình ảnh mới.\n",
    "    - image là một mảng numpy 2d.\n",
    "    '''\n",
    "    out, _, _ = forward(image, 0)  # Sử dụng nhãn 0 vì nhãn không quan trọng trong quá trình dự đoán\n",
    "    return np.argmax(out)  # Trả về nhãn có xác suất cao nhất\n",
    "\n",
    "\n",
    "def load_image(file_path):\n",
    "    # Open the image file\n",
    "    with Image.open(file_path) as img:\n",
    "        # Convert the image to grayscale\n",
    "        img = img.convert('L')\n",
    "        # Invert the colors (black becomes white and vice versa)\n",
    "        img = ImageOps.invert(img)\n",
    "        # Resize the image to 28x28\n",
    "        img = img.resize((28, 28))\n",
    "        # Convert the image data to a numpy array and return\n",
    "        return np.array(img)\n",
    "\n",
    "# Load the image\n",
    "image_path = 'data/model_1/test_17.png'\n",
    "image = load_image(image_path)\n",
    "# In ra hình ảnh\n",
    "plt.imshow(image, cmap='gray')\n",
    "plt.show()\n",
    "# Now you can pass this image to your predict function\n",
    "predicted_label = predict(image)\n",
    "print(\"Predicted label:\", predicted_label)"
   ],
   "metadata": {
    "collapsed": false,
    "execution": {
     "iopub.status.busy": "2024-04-26T19:07:27.813453Z",
     "iopub.execute_input": "2024-04-26T19:07:27.814546Z",
     "iopub.status.idle": "2024-04-26T19:07:28.581470Z",
     "shell.execute_reply.started": "2024-04-26T19:07:27.814494Z",
     "shell.execute_reply": "2024-04-26T19:07:28.580270Z"
    },
    "trusted": true,
    "ExecuteTime": {
     "end_time": "2024-04-26T19:13:35.195368Z",
     "start_time": "2024-04-26T19:13:35.125872Z"
    }
   },
   "execution_count": 16,
   "outputs": [
    {
     "data": {
      "text/plain": "<Figure size 640x480 with 1 Axes>",
      "image/png": "[encoded data removed]"
     },
     "metadata": {},
     "output_type": "display_data"
    },
    {
     "name": "stdout",
     "output_type": "stream",
     "text": [
      "Predicted label: 3\n"
     ]
    }
   ]
  },
  {
   "cell_type": "code",
   "source": [
    "import tkinter as tk\n",
    "from PIL import ImageGrab, Image, ImageOps\n",
    "import numpy as np\n",
    "\n",
    "def load_image(file_path):\n",
    "    # Open the image file\n",
    "    with Image.open(file_path) as img:\n",
    "        # Convert the image to grayscale\n",
    "        img = img.convert('L')\n",
    "        # Invert the colors (black becomes white and vice versa)\n",
    "        img = ImageOps.invert(img)\n",
    "        # Resize the image to 28x28\n",
    "        img = img.resize((28, 28))\n",
    "        # Convert the image data to a numpy array and return\n",
    "        return np.array(img)\n",
    "\n",
    "def predict(image):\n",
    "    out, _, _ = forward(image, 0)  # Use label 0 as label is not important during prediction\n",
    "    return np.argmax(out)  # Return the label with the highest probability\n",
    "\n",
    "class DigitRecognizer(tk.Tk):\n",
    "    def __init__(self):\n",
    "        tk.Tk.__init__(self)\n",
    "\n",
    "        self.canvas = tk.Canvas(self, width=280, height=280, bg='white', cursor='cross')\n",
    "        self.label = tk.Label(self, text=\"Thinking..\", font=(\"Helvetica\", 48))\n",
    "        self.classify_btn = tk.Button(self, text=\"Recognise\", command=self.classify_handwriting)\n",
    "        self.button_clear = tk.Button(self, text=\"Clear\", command=self.clear_all)\n",
    "\n",
    "        # Grid structure\n",
    "        self.canvas.grid(row=0, column=0, pady=2, sticky='w', )\n",
    "        self.label.grid(row=0, column=1, pady=2, padx=2)\n",
    "        self.classify_btn.grid(row=1, column=1, pady=2, padx=2)\n",
    "        self.button_clear.grid(row=1, column=0, pady=2)\n",
    "\n",
    "        self.canvas.bind(\"<B1-Motion>\", self.draw_lines)\n",
    "\n",
    "    def clear_all(self):\n",
    "        self.canvas.delete(\"all\")\n",
    "\n",
    "    def classify_handwriting(self):\n",
    "        x = self.winfo_rootx() + self.canvas.winfo_x()\n",
    "        y = self.winfo_rooty() + self.canvas.winfo_y()\n",
    "        x1 = x + self.canvas.winfo_width()\n",
    "        y1 = y + self.canvas.winfo_height()\n",
    "        im = ImageGrab.grab((x, y, x1, y1))\n",
    "        im.save(\"temp.png\")  # Save the image temporarily\n",
    "        image = load_image(\"temp.png\")  # Load the image using the function you provided\n",
    "        predicted_label = predict(image)  # Predict the label using the function you provided\n",
    "        self.label.configure(text=str(predicted_label))\n",
    "\n",
    "    def draw_lines(self, event):\n",
    "        self.x = event.x\n",
    "        self.y = event.y\n",
    "        r = 8\n",
    "        self.canvas.create_oval(self.x - r, self.y - r, self.x + r, self.y + r, fill='black')\n",
    "\n",
    "digit_recognizer = DigitRecognizer()\n",
    "digit_recognizer.mainloop()"
   ],
   "metadata": {
    "collapsed": false,
    "execution": {
     "iopub.status.busy": "2024-04-26T19:07:28.582330Z",
     "iopub.status.idle": "2024-04-26T19:07:28.582671Z",
     "shell.execute_reply.started": "2024-04-26T19:07:28.582493Z",
     "shell.execute_reply": "2024-04-26T19:07:28.582506Z"
    },
    "trusted": true,
    "ExecuteTime": {
     "end_time": "2024-04-26T19:14:14.098002Z",
     "start_time": "2024-04-26T19:13:35.197042Z"
    }
   },
   "execution_count": 17,
   "outputs": [
    {
     "name": "stderr",
     "output_type": "stream",
     "text": [
      "2024-04-27 02:13:35.464 Python[4490:72679] WARNING: Secure coding is not enabled for restorable state! Enable secure coding by implementing NSApplicationDelegate.applicationSupportsSecureRestorableState: and returning YES.\n"
     ]
    }
   ]
  },
  {
   "cell_type": "code",
   "source": [],
   "metadata": {
    "collapsed": false,
    "ExecuteTime": {
     "end_time": "2024-04-26T19:14:14.104791Z",
     "start_time": "2024-04-26T19:14:14.101403Z"
    }
   },
   "execution_count": 17,
   "outputs": []
  }
 ]
}
